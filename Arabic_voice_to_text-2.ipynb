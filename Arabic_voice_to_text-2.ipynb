{
  "nbformat": 4,
  "nbformat_minor": 0,
  "metadata": {
    "colab": {
      "provenance": []
    },
    "kernelspec": {
      "name": "python3",
      "display_name": "Python 3"
    },
    "language_info": {
      "name": "python"
    }
  },
  "cells": [
    {
      "cell_type": "markdown",
      "source": [
        "# Arabic speech-to-text Transcription\n",
        "###I have used this Arabic speech to text model after testing two to three models for transcription, and from this I got around 97% accuracy."
      ],
      "metadata": {
        "id": "F9f02bdiwwZs"
      }
    },
    {
      "cell_type": "code",
      "execution_count": null,
      "metadata": {
        "id": "8dAdZui6wGis"
      },
      "outputs": [],
      "source": [
        "from transformers import pipeline\n",
        "\n",
        "pipe = pipeline(\"automatic-speech-recognition\", model=\"smerchi/Arabic-Morocco-Speech_To_Text\")\n",
        "result = pipe('/content/sample_data/your-audio-file.mp3')"
      ]
    },
    {
      "cell_type": "code",
      "source": [
        "import re\n",
        "\n",
        "transcription = result['text']\n",
        "\n",
        "sentences = re.split(r'(?<=[.!?]) +', transcription)\n",
        "for i in sentences:\n",
        "  print(sentences)"
      ],
      "metadata": {
        "id": "RFpe3ob9wgR1"
      },
      "execution_count": null,
      "outputs": []
    }
  ]
}